{
 "cells": [
  {
   "cell_type": "markdown",
   "metadata": {},
   "source": [
    "## Work\n",
    "1. 請將 Epoch 加到 500 個，並觀察 learning curve 的走勢\n",
    "2. 請將 Optimizer 換成 SGD，並觀察 learning curve 的走勢"
   ]
  },
  {
   "cell_type": "code",
   "execution_count": 1,
   "metadata": {},
   "outputs": [
    {
     "name": "stderr",
     "output_type": "stream",
     "text": [
      "C:\\Users\\b99401105\\Anaconda3\\lib\\site-packages\\h5py\\__init__.py:36: FutureWarning: Conversion of the second argument of issubdtype from `float` to `np.floating` is deprecated. In future, it will be treated as `np.float64 == np.dtype(float).type`.\n",
      "  from ._conv import register_converters as _register_converters\n",
      "Using TensorFlow backend.\n"
     ]
    }
   ],
   "source": [
    "import os\n",
    "import keras\n",
    "\n",
    "# 本作業可以不需使用 GPU, 將 GPU 設定為 \"無\" (若有 GPU 且想開啟，可設為 \"0\")\n",
    "os.environ[\"CUDA_VISIBLE_DEVICES\"] = \"\""
   ]
  },
  {
   "cell_type": "code",
   "execution_count": 2,
   "metadata": {},
   "outputs": [],
   "source": [
    "# 從 Keras 的內建功能中，取得 train 與 test 資料集\n",
    "train, test = keras.datasets.cifar10.load_data()"
   ]
  },
  {
   "cell_type": "code",
   "execution_count": 3,
   "metadata": {},
   "outputs": [],
   "source": [
    "# 將 X 與 Y 獨立放進變數\n",
    "x_train, y_train = train\n",
    "x_test, y_test = test\n",
    "# 資料前處理 - 標準化\n",
    "x_train = x_train / 255.\n",
    "x_test = x_test / 255.\n",
    "\n",
    "# 將資料從圖形 (RGB) 轉為向量 (Single Vector)\n",
    "x_train = x_train.reshape((len(x_train), -1))\n",
    "x_test = x_test.reshape((len(x_test), -1))\n",
    "\n",
    "# 將目標轉為 one-hot encoding\n",
    "y_train = keras.utils.to_categorical(y_train, num_classes=10)\n",
    "y_test = keras.utils.to_categorical(y_test, num_classes=10)"
   ]
  },
  {
   "cell_type": "code",
   "execution_count": 5,
   "metadata": {},
   "outputs": [
    {
     "name": "stdout",
     "output_type": "stream",
     "text": [
      "_________________________________________________________________\n",
      "Layer (type)                 Output Shape              Param #   \n",
      "=================================================================\n",
      "input_2 (InputLayer)         (None, 3072)              0         \n",
      "_________________________________________________________________\n",
      "dense_5 (Dense)              (None, 512)               1573376   \n",
      "_________________________________________________________________\n",
      "dense_6 (Dense)              (None, 256)               131328    \n",
      "_________________________________________________________________\n",
      "dense_7 (Dense)              (None, 128)               32896     \n",
      "_________________________________________________________________\n",
      "dense_8 (Dense)              (None, 10)                1290      \n",
      "=================================================================\n",
      "Total params: 1,738,890\n",
      "Trainable params: 1,738,890\n",
      "Non-trainable params: 0\n",
      "_________________________________________________________________\n"
     ]
    }
   ],
   "source": [
    "def build_mlp():\n",
    "    input_layer=keras.layers.Input([x_train.shape[-1]])\n",
    "    x = keras.layers.Dense(units=512, activation='relu')(input_layer)\n",
    "    x = keras.layers.Dense(units=256, activation='relu')(x)\n",
    "    x = keras.layers.Dense(units=128, activation='relu')(x)\n",
    "    out = keras.layers.Dense(units=10, activation='softmax')(x)\n",
    "    \n",
    "    model=keras.models.Model(inputs= [input_layer], outputs= [out])\n",
    "    return model\n",
    "model = build_mlp()\n",
    "model.summary()"
   ]
  },
  {
   "cell_type": "code",
   "execution_count": 6,
   "metadata": {},
   "outputs": [
    {
     "name": "stderr",
     "output_type": "stream",
     "text": [
      "W0812 00:06:01.885405  8188 deprecation_wrapper.py:119] From C:\\Users\\b99401105\\Anaconda3\\lib\\site-packages\\keras\\optimizers.py:790: The name tf.train.Optimizer is deprecated. Please use tf.compat.v1.train.Optimizer instead.\n",
      "\n",
      "W0812 00:06:01.901396  8188 deprecation_wrapper.py:119] From C:\\Users\\b99401105\\Anaconda3\\lib\\site-packages\\keras\\backend\\tensorflow_backend.py:3295: The name tf.log is deprecated. Please use tf.math.log instead.\n",
      "\n"
     ]
    }
   ],
   "source": [
    "\"\"\"\n",
    "Compile 模型\n",
    "\"\"\"\n",
    "\n",
    "optimizer=keras.optimizers.Adam(lr=0.001)\n",
    "model.compile(loss='categorical_crossentropy', metrics=['accuracy'], optimizer=optimizer)"
   ]
  },
  {
   "cell_type": "code",
   "execution_count": 7,
   "metadata": {
    "scrolled": true
   },
   "outputs": [
    {
     "name": "stderr",
     "output_type": "stream",
     "text": [
      "W0812 00:06:23.176609  8188 deprecation.py:323] From C:\\Users\\b99401105\\AppData\\Roaming\\Python\\Python36\\site-packages\\tensorflow\\python\\ops\\math_grad.py:1250: add_dispatch_support.<locals>.wrapper (from tensorflow.python.ops.array_ops) is deprecated and will be removed in a future version.\n",
      "Instructions for updating:\n",
      "Use tf.where in 2.0, which has the same broadcast rule as np.where\n",
      "W0812 00:06:23.285540  8188 deprecation_wrapper.py:119] From C:\\Users\\b99401105\\Anaconda3\\lib\\site-packages\\keras\\backend\\tensorflow_backend.py:986: The name tf.assign_add is deprecated. Please use tf.compat.v1.assign_add instead.\n",
      "\n"
     ]
    },
    {
     "name": "stdout",
     "output_type": "stream",
     "text": [
      "Train on 50000 samples, validate on 10000 samples\n",
      "Epoch 1/50\n",
      "50000/50000 [==============================] - 21s 424us/step - loss: 1.9241 - acc: 0.3020 - val_loss: 1.7618 - val_acc: 0.3600\n",
      "Epoch 2/50\n",
      "50000/50000 [==============================] - 21s 413us/step - loss: 1.7109 - acc: 0.3896 - val_loss: 1.6550 - val_acc: 0.4063\n",
      "Epoch 3/50\n",
      "50000/50000 [==============================] - 21s 414us/step - loss: 1.6043 - acc: 0.4274 - val_loss: 1.6143 - val_acc: 0.4265\n",
      "Epoch 4/50\n",
      "50000/50000 [==============================] - 21s 415us/step - loss: 1.5495 - acc: 0.4476 - val_loss: 1.6045 - val_acc: 0.4239\n",
      "Epoch 5/50\n",
      "50000/50000 [==============================] - 21s 417us/step - loss: 1.5030 - acc: 0.4642 - val_loss: 1.5438 - val_acc: 0.4425\n",
      "Epoch 6/50\n",
      "50000/50000 [==============================] - 21s 417us/step - loss: 1.4760 - acc: 0.4722 - val_loss: 1.4979 - val_acc: 0.4628\n",
      "Epoch 7/50\n",
      "50000/50000 [==============================] - 20s 408us/step - loss: 1.4409 - acc: 0.4849 - val_loss: 1.5032 - val_acc: 0.4630\n",
      "Epoch 8/50\n",
      "50000/50000 [==============================] - 21s 411us/step - loss: 1.4113 - acc: 0.4949 - val_loss: 1.4458 - val_acc: 0.4914\n",
      "Epoch 9/50\n",
      "50000/50000 [==============================] - 20s 407us/step - loss: 1.3771 - acc: 0.5109 - val_loss: 1.4014 - val_acc: 0.5063\n",
      "Epoch 10/50\n",
      "50000/50000 [==============================] - 20s 408us/step - loss: 1.3502 - acc: 0.5190 - val_loss: 1.4574 - val_acc: 0.4894\n",
      "Epoch 11/50\n",
      "50000/50000 [==============================] - 21s 414us/step - loss: 1.3293 - acc: 0.5269 - val_loss: 1.4446 - val_acc: 0.4917\n",
      "Epoch 12/50\n",
      "50000/50000 [==============================] - 20s 406us/step - loss: 1.3025 - acc: 0.5382 - val_loss: 1.3776 - val_acc: 0.5120\n",
      "Epoch 13/50\n",
      "50000/50000 [==============================] - 20s 407us/step - loss: 1.2811 - acc: 0.5436 - val_loss: 1.3746 - val_acc: 0.5107\n",
      "Epoch 14/50\n",
      "50000/50000 [==============================] - 21s 414us/step - loss: 1.2491 - acc: 0.5547 - val_loss: 1.4252 - val_acc: 0.4988\n",
      "Epoch 15/50\n",
      "50000/50000 [==============================] - 21s 411us/step - loss: 1.2351 - acc: 0.5604 - val_loss: 1.4008 - val_acc: 0.5050\n",
      "Epoch 16/50\n",
      "50000/50000 [==============================] - 21s 410us/step - loss: 1.2085 - acc: 0.5723 - val_loss: 1.4452 - val_acc: 0.4957\n",
      "Epoch 17/50\n",
      "50000/50000 [==============================] - 21s 414us/step - loss: 1.1963 - acc: 0.5739 - val_loss: 1.3854 - val_acc: 0.5120\n",
      "Epoch 18/50\n",
      "50000/50000 [==============================] - 22s 431us/step - loss: 1.1721 - acc: 0.5840 - val_loss: 1.3662 - val_acc: 0.5228\n",
      "Epoch 19/50\n",
      "50000/50000 [==============================] - 21s 422us/step - loss: 1.1559 - acc: 0.5884 - val_loss: 1.3846 - val_acc: 0.5137\n",
      "Epoch 20/50\n",
      "50000/50000 [==============================] - 21s 418us/step - loss: 1.1330 - acc: 0.5959 - val_loss: 1.3673 - val_acc: 0.5251\n",
      "Epoch 21/50\n",
      "50000/50000 [==============================] - 21s 417us/step - loss: 1.1114 - acc: 0.6019 - val_loss: 1.3691 - val_acc: 0.5264\n",
      "Epoch 22/50\n",
      "50000/50000 [==============================] - 21s 411us/step - loss: 1.0880 - acc: 0.6118 - val_loss: 1.3704 - val_acc: 0.5236\n",
      "Epoch 23/50\n",
      "50000/50000 [==============================] - 21s 414us/step - loss: 1.0753 - acc: 0.6177 - val_loss: 1.4061 - val_acc: 0.5184\n",
      "Epoch 24/50\n",
      "50000/50000 [==============================] - 21s 411us/step - loss: 1.0577 - acc: 0.6234 - val_loss: 1.3641 - val_acc: 0.5331\n",
      "Epoch 25/50\n",
      "50000/50000 [==============================] - 21s 415us/step - loss: 1.0337 - acc: 0.6335 - val_loss: 1.4415 - val_acc: 0.5161\n",
      "Epoch 26/50\n",
      "50000/50000 [==============================] - 21s 415us/step - loss: 1.0263 - acc: 0.6347 - val_loss: 1.4095 - val_acc: 0.5252\n",
      "Epoch 27/50\n",
      "50000/50000 [==============================] - 21s 416us/step - loss: 0.9996 - acc: 0.6437 - val_loss: 1.4362 - val_acc: 0.5181\n",
      "Epoch 28/50\n",
      "50000/50000 [==============================] - 22s 439us/step - loss: 0.9875 - acc: 0.6471 - val_loss: 1.4000 - val_acc: 0.5322\n",
      "Epoch 29/50\n",
      "50000/50000 [==============================] - 21s 421us/step - loss: 0.9611 - acc: 0.6569 - val_loss: 1.4532 - val_acc: 0.5185\n",
      "Epoch 30/50\n",
      "50000/50000 [==============================] - 21s 422us/step - loss: 0.9474 - acc: 0.6612 - val_loss: 1.4380 - val_acc: 0.5256\n",
      "Epoch 31/50\n",
      "50000/50000 [==============================] - 21s 429us/step - loss: 0.9266 - acc: 0.6686 - val_loss: 1.4791 - val_acc: 0.5166\n",
      "Epoch 32/50\n",
      "50000/50000 [==============================] - 21s 422us/step - loss: 0.9137 - acc: 0.6738 - val_loss: 1.4643 - val_acc: 0.5255\n",
      "Epoch 33/50\n",
      "50000/50000 [==============================] - 21s 426us/step - loss: 0.8961 - acc: 0.6779 - val_loss: 1.5269 - val_acc: 0.5117\n",
      "Epoch 34/50\n",
      "50000/50000 [==============================] - 22s 433us/step - loss: 0.8807 - acc: 0.6852 - val_loss: 1.5226 - val_acc: 0.5082\n",
      "Epoch 35/50\n",
      "50000/50000 [==============================] - 22s 430us/step - loss: 0.8536 - acc: 0.6940 - val_loss: 1.4850 - val_acc: 0.5248\n",
      "Epoch 36/50\n",
      "50000/50000 [==============================] - 21s 427us/step - loss: 0.8448 - acc: 0.6985 - val_loss: 1.4845 - val_acc: 0.5249\n",
      "Epoch 37/50\n",
      "50000/50000 [==============================] - 22s 430us/step - loss: 0.8360 - acc: 0.6990 - val_loss: 1.5413 - val_acc: 0.5169\n",
      "Epoch 38/50\n",
      "50000/50000 [==============================] - 22s 435us/step - loss: 0.8113 - acc: 0.7101 - val_loss: 1.6230 - val_acc: 0.5077\n",
      "Epoch 39/50\n",
      "50000/50000 [==============================] - 22s 432us/step - loss: 0.8031 - acc: 0.7128 - val_loss: 1.5792 - val_acc: 0.5215\n",
      "Epoch 40/50\n",
      "50000/50000 [==============================] - 23s 460us/step - loss: 0.7754 - acc: 0.7229 - val_loss: 1.5743 - val_acc: 0.5212\n",
      "Epoch 41/50\n",
      "50000/50000 [==============================] - 22s 442us/step - loss: 0.7613 - acc: 0.7255 - val_loss: 1.6247 - val_acc: 0.5161\n",
      "Epoch 42/50\n",
      "50000/50000 [==============================] - 22s 439us/step - loss: 0.7574 - acc: 0.7288 - val_loss: 1.6705 - val_acc: 0.5130\n",
      "Epoch 43/50\n",
      "50000/50000 [==============================] - 22s 431us/step - loss: 0.7461 - acc: 0.7332 - val_loss: 1.6326 - val_acc: 0.5123\n",
      "Epoch 44/50\n",
      "50000/50000 [==============================] - 22s 437us/step - loss: 0.7266 - acc: 0.7396 - val_loss: 1.6454 - val_acc: 0.5213\n",
      "Epoch 45/50\n",
      "50000/50000 [==============================] - 22s 438us/step - loss: 0.7147 - acc: 0.7440 - val_loss: 1.6585 - val_acc: 0.5149\n",
      "Epoch 46/50\n",
      "50000/50000 [==============================] - 22s 430us/step - loss: 0.7032 - acc: 0.7475 - val_loss: 1.6797 - val_acc: 0.5163\n",
      "Epoch 47/50\n",
      "50000/50000 [==============================] - 21s 427us/step - loss: 0.6904 - acc: 0.7535 - val_loss: 1.7380 - val_acc: 0.5160\n",
      "Epoch 48/50\n",
      "50000/50000 [==============================] - 22s 437us/step - loss: 0.6786 - acc: 0.7554 - val_loss: 1.7101 - val_acc: 0.5164\n",
      "Epoch 49/50\n",
      "50000/50000 [==============================] - 22s 435us/step - loss: 0.6539 - acc: 0.7660 - val_loss: 1.8355 - val_acc: 0.5072\n",
      "Epoch 50/50\n",
      "50000/50000 [==============================] - 22s 432us/step - loss: 0.6595 - acc: 0.7630 - val_loss: 1.7690 - val_acc: 0.5193\n"
     ]
    },
    {
     "data": {
      "text/plain": [
       "<keras.callbacks.History at 0x252ced15e48>"
      ]
     },
     "execution_count": 7,
     "metadata": {},
     "output_type": "execute_result"
    }
   ],
   "source": [
    "\"\"\"\n",
    "設定要訓練的 Epoch 數\n",
    "\"\"\"\n",
    "model.fit(x_train, y_train, \n",
    "          epochs=50, \n",
    "          batch_size=256, \n",
    "          validation_data=(x_test, y_test), \n",
    "          shuffle=True)"
   ]
  },
  {
   "cell_type": "code",
   "execution_count": 9,
   "metadata": {},
   "outputs": [
    {
     "data": {
      "image/png": "[encoded data removed]",
      "text/plain": [
       "<Figure size 432x288 with 1 Axes>"
      ]
     },
     "metadata": {},
     "output_type": "display_data"
    },
    {
     "data": {
      "image/png": "[encoded data removed]",
      "text/plain": [
       "<Figure size 432x288 with 1 Axes>"
      ]
     },
     "metadata": {},
     "output_type": "display_data"
    }
   ],
   "source": [
    "import matplotlib.pyplot as plt\n",
    "# 以視覺畫方式檢視訓練過程\n",
    "\n",
    "train_loss = model.history.history[\"loss\"]\n",
    "valid_loss = model.history.history[\"val_loss\"]\n",
    "\n",
    "train_acc = model.history.history[\"acc\"]\n",
    "valid_acc = model.history.history[\"val_acc\"]\n",
    "\n",
    "plt.plot(range(len(train_loss)), train_loss, label=\"train loss\")\n",
    "plt.plot(range(len(valid_loss)), valid_loss, label=\"valid loss\")\n",
    "plt.legend()\n",
    "plt.title(\"Loss\")\n",
    "plt.show()\n",
    "\n",
    "plt.plot(range(len(train_acc)), train_acc, label=\"train accuracy\")\n",
    "plt.plot(range(len(valid_acc)), valid_acc, label=\"valid accuracy\")\n",
    "plt.legend()\n",
    "plt.title(\"Accuracy\")\n",
    "plt.show()"
   ]
  },
  {
   "cell_type": "code",
   "execution_count": 10,
   "metadata": {},
   "outputs": [],
   "source": [
    "\"\"\"\n",
    "Compile 模型\n",
    "\"\"\"\n",
    "\n",
    "optimizer=keras.optimizers.SGD(lr=0.001)\n",
    "model.compile(loss='categorical_crossentropy', metrics=['accuracy'], optimizer=optimizer)"
   ]
  },
  {
   "cell_type": "code",
   "execution_count": 11,
   "metadata": {},
   "outputs": [
    {
     "name": "stdout",
     "output_type": "stream",
     "text": [
      "Train on 50000 samples, validate on 10000 samples\n",
      "Epoch 1/50\n",
      "50000/50000 [==============================] - 19s 375us/step - loss: 0.5584 - acc: 0.8060 - val_loss: 1.7159 - val_acc: 0.5252\n",
      "Epoch 2/50\n",
      "50000/50000 [==============================] - 17s 347us/step - loss: 0.5153 - acc: 0.8243 - val_loss: 1.7183 - val_acc: 0.5288\n",
      "Epoch 3/50\n",
      "50000/50000 [==============================] - 17s 344us/step - loss: 0.4978 - acc: 0.8324 - val_loss: 1.7219 - val_acc: 0.5291\n",
      "Epoch 4/50\n",
      "50000/50000 [==============================] - 17s 345us/step - loss: 0.4873 - acc: 0.8372 - val_loss: 1.7264 - val_acc: 0.5304\n",
      "Epoch 5/50\n",
      "50000/50000 [==============================] - 17s 350us/step - loss: 0.4801 - acc: 0.8398 - val_loss: 1.7304 - val_acc: 0.5290\n",
      "Epoch 6/50\n",
      "50000/50000 [==============================] - 17s 348us/step - loss: 0.4748 - acc: 0.8422 - val_loss: 1.7350 - val_acc: 0.5296\n",
      "Epoch 7/50\n",
      "50000/50000 [==============================] - 17s 345us/step - loss: 0.4705 - acc: 0.8444 - val_loss: 1.7390 - val_acc: 0.5304\n",
      "Epoch 8/50\n",
      "50000/50000 [==============================] - 18s 351us/step - loss: 0.4671 - acc: 0.8459 - val_loss: 1.7426 - val_acc: 0.5299\n",
      "Epoch 9/50\n",
      "50000/50000 [==============================] - 18s 356us/step - loss: 0.4642 - acc: 0.8470 - val_loss: 1.7471 - val_acc: 0.5309\n",
      "Epoch 10/50\n",
      "50000/50000 [==============================] - 17s 347us/step - loss: 0.4618 - acc: 0.8481 - val_loss: 1.7493 - val_acc: 0.5307\n",
      "Epoch 11/50\n",
      "50000/50000 [==============================] - 17s 348us/step - loss: 0.4596 - acc: 0.8493 - val_loss: 1.7522 - val_acc: 0.5304\n",
      "Epoch 12/50\n",
      "50000/50000 [==============================] - 18s 351us/step - loss: 0.4577 - acc: 0.8496 - val_loss: 1.7557 - val_acc: 0.5311\n",
      "Epoch 13/50\n",
      "50000/50000 [==============================] - 19s 380us/step - loss: 0.4561 - acc: 0.8500 - val_loss: 1.7588 - val_acc: 0.5302\n",
      "Epoch 14/50\n",
      "50000/50000 [==============================] - 20s 400us/step - loss: 0.4545 - acc: 0.8507 - val_loss: 1.7612 - val_acc: 0.5299\n",
      "Epoch 15/50\n",
      "50000/50000 [==============================] - 19s 372us/step - loss: 0.4532 - acc: 0.8508 - val_loss: 1.7649 - val_acc: 0.5298\n",
      "Epoch 16/50\n",
      "50000/50000 [==============================] - 17s 339us/step - loss: 0.4519 - acc: 0.8508 - val_loss: 1.7673 - val_acc: 0.5296\n",
      "Epoch 17/50\n",
      "50000/50000 [==============================] - 17s 349us/step - loss: 0.4506 - acc: 0.8514 - val_loss: 1.7693 - val_acc: 0.5299\n",
      "Epoch 18/50\n",
      "50000/50000 [==============================] - 17s 337us/step - loss: 0.4496 - acc: 0.8516 - val_loss: 1.7718 - val_acc: 0.5296\n",
      "Epoch 19/50\n",
      "50000/50000 [==============================] - 17s 332us/step - loss: 0.4486 - acc: 0.8519 - val_loss: 1.7746 - val_acc: 0.5306\n",
      "Epoch 20/50\n",
      "50000/50000 [==============================] - 17s 335us/step - loss: 0.4476 - acc: 0.8522 - val_loss: 1.7773 - val_acc: 0.5301\n",
      "Epoch 21/50\n",
      "50000/50000 [==============================] - 17s 349us/step - loss: 0.4467 - acc: 0.8529 - val_loss: 1.7789 - val_acc: 0.5301\n",
      "Epoch 22/50\n",
      "50000/50000 [==============================] - 17s 337us/step - loss: 0.4458 - acc: 0.8525 - val_loss: 1.7806 - val_acc: 0.5304\n",
      "Epoch 23/50\n",
      "50000/50000 [==============================] - 17s 333us/step - loss: 0.4450 - acc: 0.8528 - val_loss: 1.7834 - val_acc: 0.5296\n",
      "Epoch 24/50\n",
      "50000/50000 [==============================] - 18s 364us/step - loss: 0.4442 - acc: 0.8533 - val_loss: 1.7860 - val_acc: 0.5299\n",
      "Epoch 25/50\n",
      "50000/50000 [==============================] - 17s 345us/step - loss: 0.4434 - acc: 0.8538 - val_loss: 1.7877 - val_acc: 0.5307\n",
      "Epoch 26/50\n",
      "50000/50000 [==============================] - 17s 342us/step - loss: 0.4427 - acc: 0.8534 - val_loss: 1.7892 - val_acc: 0.5301\n",
      "Epoch 27/50\n",
      "50000/50000 [==============================] - 17s 337us/step - loss: 0.4420 - acc: 0.8539 - val_loss: 1.7907 - val_acc: 0.5305\n",
      "Epoch 28/50\n",
      "50000/50000 [==============================] - 17s 331us/step - loss: 0.4413 - acc: 0.8543 - val_loss: 1.7936 - val_acc: 0.5290\n",
      "Epoch 29/50\n",
      "50000/50000 [==============================] - 17s 336us/step - loss: 0.4406 - acc: 0.8544 - val_loss: 1.7942 - val_acc: 0.5294\n",
      "Epoch 30/50\n",
      "50000/50000 [==============================] - 17s 331us/step - loss: 0.4400 - acc: 0.8550 - val_loss: 1.7964 - val_acc: 0.5294\n",
      "Epoch 31/50\n",
      "50000/50000 [==============================] - 16s 329us/step - loss: 0.4393 - acc: 0.8555 - val_loss: 1.7988 - val_acc: 0.5293\n",
      "Epoch 32/50\n",
      "50000/50000 [==============================] - 17s 337us/step - loss: 0.4387 - acc: 0.8553 - val_loss: 1.8009 - val_acc: 0.5291\n",
      "Epoch 33/50\n",
      "50000/50000 [==============================] - 17s 335us/step - loss: 0.4382 - acc: 0.8553 - val_loss: 1.8014 - val_acc: 0.5292\n",
      "Epoch 34/50\n",
      "50000/50000 [==============================] - 17s 333us/step - loss: 0.4376 - acc: 0.8555 - val_loss: 1.8041 - val_acc: 0.5295\n",
      "Epoch 35/50\n",
      "50000/50000 [==============================] - 20s 392us/step - loss: 0.4370 - acc: 0.8559 - val_loss: 1.8055 - val_acc: 0.5303\n",
      "Epoch 36/50\n",
      "50000/50000 [==============================] - 17s 336us/step - loss: 0.4364 - acc: 0.8558 - val_loss: 1.8073 - val_acc: 0.5287\n",
      "Epoch 37/50\n",
      "50000/50000 [==============================] - 17s 330us/step - loss: 0.4359 - acc: 0.8561 - val_loss: 1.8087 - val_acc: 0.5293\n",
      "Epoch 38/50\n",
      "50000/50000 [==============================] - 17s 336us/step - loss: 0.4354 - acc: 0.8565 - val_loss: 1.8110 - val_acc: 0.5288\n",
      "Epoch 39/50\n",
      "50000/50000 [==============================] - 17s 338us/step - loss: 0.4349 - acc: 0.8563 - val_loss: 1.8113 - val_acc: 0.5294\n",
      "Epoch 40/50\n",
      "50000/50000 [==============================] - 17s 331us/step - loss: 0.4344 - acc: 0.8566 - val_loss: 1.8131 - val_acc: 0.5294\n",
      "Epoch 41/50\n",
      "50000/50000 [==============================] - 17s 332us/step - loss: 0.4338 - acc: 0.8569 - val_loss: 1.8144 - val_acc: 0.5295\n",
      "Epoch 42/50\n",
      "50000/50000 [==============================] - 17s 330us/step - loss: 0.4334 - acc: 0.8572 - val_loss: 1.8155 - val_acc: 0.5293\n",
      "Epoch 43/50\n",
      "50000/50000 [==============================] - 17s 334us/step - loss: 0.4329 - acc: 0.8569 - val_loss: 1.8171 - val_acc: 0.5300\n",
      "Epoch 44/50\n",
      "50000/50000 [==============================] - 17s 341us/step - loss: 0.4324 - acc: 0.8575 - val_loss: 1.8185 - val_acc: 0.5288\n",
      "Epoch 45/50\n",
      "50000/50000 [==============================] - 19s 375us/step - loss: 0.4319 - acc: 0.8575 - val_loss: 1.8199 - val_acc: 0.5291\n",
      "Epoch 46/50\n",
      "50000/50000 [==============================] - 21s 423us/step - loss: 0.4315 - acc: 0.8573 - val_loss: 1.8201 - val_acc: 0.5286\n",
      "Epoch 47/50\n",
      "50000/50000 [==============================] - 18s 353us/step - loss: 0.4310 - acc: 0.8579 - val_loss: 1.8219 - val_acc: 0.5293\n",
      "Epoch 48/50\n",
      "50000/50000 [==============================] - 17s 332us/step - loss: 0.4306 - acc: 0.8577 - val_loss: 1.8234 - val_acc: 0.5286\n",
      "Epoch 49/50\n",
      "50000/50000 [==============================] - 21s 425us/step - loss: 0.4301 - acc: 0.8578 - val_loss: 1.8251 - val_acc: 0.5287\n",
      "Epoch 50/50\n",
      "50000/50000 [==============================] - 20s 406us/step - loss: 0.4298 - acc: 0.8581 - val_loss: 1.8260 - val_acc: 0.5296\n"
     ]
    },
    {
     "data": {
      "text/plain": [
       "<keras.callbacks.History at 0x252ced15710>"
      ]
     },
     "execution_count": 11,
     "metadata": {},
     "output_type": "execute_result"
    }
   ],
   "source": [
    "\"\"\"\n",
    "設定要訓練的 Epoch 數\n",
    "\"\"\"\n",
    "model.fit(x_train, y_train, \n",
    "          epochs=50, \n",
    "          batch_size=256, \n",
    "          validation_data=(x_test, y_test), \n",
    "          shuffle=True)"
   ]
  },
  {
   "cell_type": "code",
   "execution_count": 12,
   "metadata": {},
   "outputs": [
    {
     "data": {
      "image/png": "[encoded data removed]",
      "text/plain": [
       "<Figure size 432x288 with 1 Axes>"
      ]
     },
     "metadata": {},
     "output_type": "display_data"
    },
    {
     "data": {
      "image/png": "[encoded data removed]",
      "text/plain": [
       "<Figure size 432x288 with 1 Axes>"
      ]
     },
     "metadata": {},
     "output_type": "display_data"
    }
   ],
   "source": [
    "import matplotlib.pyplot as plt\n",
    "# 以視覺畫方式檢視訓練過程\n",
    "\n",
    "train_loss = model.history.history[\"loss\"]\n",
    "valid_loss = model.history.history[\"val_loss\"]\n",
    "\n",
    "train_acc = model.history.history[\"acc\"]\n",
    "valid_acc = model.history.history[\"val_acc\"]\n",
    "\n",
    "plt.plot(range(len(train_loss)), train_loss, label=\"train loss\")\n",
    "plt.plot(range(len(valid_loss)), valid_loss, label=\"valid loss\")\n",
    "plt.legend()\n",
    "plt.title(\"Loss\")\n",
    "plt.show()\n",
    "\n",
    "plt.plot(range(len(train_acc)), train_acc, label=\"train accuracy\")\n",
    "plt.plot(range(len(valid_acc)), valid_acc, label=\"valid accuracy\")\n",
    "plt.legend()\n",
    "plt.title(\"Accuracy\")\n",
    "plt.show()"
   ]
  },
  {
   "cell_type": "code",
   "execution_count": null,
   "metadata": {},
   "outputs": [],
   "source": []
  }
 ],
 "metadata": {
  "kernelspec": {
   "display_name": "Python 3",
   "language": "python",
   "name": "python3"
  },
  "language_info": {
   "codemirror_mode": {
    "name": "ipython",
    "version": 3
   },
   "file_extension": ".py",
   "mimetype": "text/x-python",
   "name": "python",
   "nbconvert_exporter": "python",
   "pygments_lexer": "ipython3",
   "version": "3.6.5"
  }
 },
 "nbformat": 4,
 "nbformat_minor": 2
}

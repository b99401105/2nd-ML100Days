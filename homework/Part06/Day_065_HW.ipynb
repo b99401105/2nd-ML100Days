{
 "cells": [
  {
   "cell_type": "markdown",
   "metadata": {},
   "source": [
    "# 作業\n",
    "* 選擇分類資料集(右下)-螺旋雙臂 - 交錯六群，限定特徵只能使用前兩個，隱藏層 2 層滿 (共 8 * 2 =16 個神經元)，  \n",
    "  遞迴次數只允許跑到500次，但可以自由調整 批次大小、學習速率、啟動函數、正規化選項與參數\n",
    "* 在上述限制下，挑戰看看測試誤差 (Test Loss) 最低能到多少? 請回答你的上述幾項參數與 Test Loss 數"
   ]
  },
  {
   "cell_type": "markdown",
   "metadata": {
    "collapsed": true
   },
   "source": [
    "OUTPUT\n",
    "Test loss 0.056\n",
    "Training loss 0.008\n",
    "3/0.03/tanh/nona/0"
   ]
  },
  {
   "cell_type": "markdown",
   "metadata": {},
   "source": [
    "OUTPUT\n",
    "Test loss 0.033\n",
    "Training loss 0.005\n",
    "3/0.03/RELU/none/0"
   ]
  },
  {
   "cell_type": "markdown",
   "metadata": {},
   "source": [
    "OUTPUT\n",
    "Test loss 0.014\n",
    "Training loss 0.001\n",
    "5/0.03/RELU/none/0"
   ]
  },
  {
   "cell_type": "markdown",
   "metadata": {},
   "source": [
    "螺旋雙臂\n",
    "**OUTPUT\n",
    "Test loss 0.010\n",
    "Training loss 0.002\n",
    "5/0.03/RELU/L1/0"
   ]
  },
  {
   "cell_type": "markdown",
   "metadata": {
    "collapsed": true
   },
   "source": []
  },
  {
   "cell_type": "markdown",
   "metadata": {},
   "source": [
    "交錯六群\n",
    "OUTPUT\n",
    "Test loss 0.005\n",
    "Training loss 0.003\n",
    "5/0.03/RELU/L1/0"
   ]
  },
  {
   "cell_type": "code",
   "execution_count": null,
   "metadata": {},
   "outputs": [],
   "source": []
  }
 ],
 "metadata": {
  "kernelspec": {
   "display_name": "Python 3",
   "language": "python",
   "name": "python3"
  },
  "language_info": {
   "codemirror_mode": {
    "name": "ipython",
    "version": 3
   },
   "file_extension": ".py",
   "mimetype": "text/x-python",
   "name": "python",
   "nbconvert_exporter": "python",
   "pygments_lexer": "ipython3",
   "version": "3.6.5"
  }
 },
 "nbformat": 4,
 "nbformat_minor": 2
}
